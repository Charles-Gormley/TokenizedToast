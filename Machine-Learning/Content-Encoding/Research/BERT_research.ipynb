{
 "cells": [
  {
   "cell_type": "code",
   "execution_count": 1,
   "metadata": {},
   "outputs": [],
   "source": [
    "import torch\n",
    "from transformers import BertTokenizer, BertModel\n",
    "\n",
    "import pickle\n",
    "import os\n",
    "import random"
   ]
  },
  {
   "cell_type": "code",
   "execution_count": 2,
   "metadata": {},
   "outputs": [],
   "source": [
    "device = torch.device('cuda:0' if torch.cuda.is_available() else 'cpu')"
   ]
  },
  {
   "cell_type": "code",
   "execution_count": 3,
   "metadata": {},
   "outputs": [
    {
     "name": "stderr",
     "output_type": "stream",
     "text": [
      "Some weights of the model checkpoint at bert-base-uncased were not used when initializing BertModel: ['cls.predictions.decoder.weight', 'cls.seq_relationship.weight', 'cls.seq_relationship.bias', 'cls.predictions.transform.LayerNorm.bias', 'cls.predictions.transform.dense.weight', 'cls.predictions.transform.LayerNorm.weight', 'cls.predictions.bias', 'cls.predictions.transform.dense.bias']\n",
      "- This IS expected if you are initializing BertModel from the checkpoint of a model trained on another task or with another architecture (e.g. initializing a BertForSequenceClassification model from a BertForPreTraining model).\n",
      "- This IS NOT expected if you are initializing BertModel from the checkpoint of a model that you expect to be exactly identical (initializing a BertForSequenceClassification model from a BertForSequenceClassification model).\n"
     ]
    }
   ],
   "source": [
    "# Initialize tokenizer and model\n",
    "tokenizer = BertTokenizer.from_pretrained('bert-base-uncased')\n",
    "model = BertModel.from_pretrained('bert-base-uncased')\n",
    "\n",
    "# Send the model to the GPU\n",
    "model = model.to(device)"
   ]
  },
  {
   "cell_type": "code",
   "execution_count": 4,
   "metadata": {},
   "outputs": [],
   "source": [
    "def bert_encode(article:str) -> torch.Tensor :\n",
    "    input_ids = tokenizer.encode(article, truncation=False)\n",
    "    chunks = [input_ids[i:i + 512] for i in range(0, len(input_ids), 512)]\n",
    "    embeddings = []\n",
    "\n",
    "    for chunk in chunks:\n",
    "        # Add the required special tokens\n",
    "        chunk = chunk[:510]  # in case chunk is the last one and has more than 510 tokens\n",
    "        chunk = [tokenizer.cls_token_id] + chunk + [tokenizer.sep_token_id]\n",
    "        \n",
    "        # Convert to tensor and add batch dimension\n",
    "        chunk_tensor = torch.tensor(chunk).unsqueeze(0).to(device)\n",
    "        \n",
    "        # Run through the model\n",
    "        with torch.no_grad():\n",
    "            outputs = model(chunk_tensor)\n",
    "            \n",
    "        # Take the mean of the sequence output (could also use [CLS] token, etc.)\n",
    "        embedding = outputs.last_hidden_state.mean(dim=1)\n",
    "        embeddings.append(embedding)\n",
    "\n",
    "    # Concatenate or average the embeddings from each chunk\n",
    "    document_embedding = torch.cat(embeddings, dim=0).mean(dim=0)\n",
    "\n",
    "    return document_embedding\n"
   ]
  },
  {
   "cell_type": "code",
   "execution_count": null,
   "metadata": {},
   "outputs": [],
   "source": []
  },
  {
   "attachments": {},
   "cell_type": "markdown",
   "metadata": {},
   "source": [
    "# Wikipedia Corpus - 2018"
   ]
  },
  {
   "cell_type": "code",
   "execution_count": 5,
   "metadata": {},
   "outputs": [],
   "source": [
    "corpus_path = 'D:/INFO323/TokenizedToast/corpus-all.pkl'"
   ]
  },
  {
   "cell_type": "code",
   "execution_count": 6,
   "metadata": {},
   "outputs": [],
   "source": [
    "if os.path.exists(corpus_path):\n",
    "    with open(corpus_path, 'rb') as file:\n",
    "        corpus = pickle.load(file)"
   ]
  },
  {
   "attachments": {},
   "cell_type": "markdown",
   "metadata": {},
   "source": [
    "# Using UMAP to lower dimensionality of BERT Encodings. lol. Lower the dimensionality of encodings."
   ]
  },
  {
   "cell_type": "code",
   "execution_count": 7,
   "metadata": {},
   "outputs": [],
   "source": [
    "# import umap\n",
    "# descr_vect_3d = umap.UMAP(n_components=3).fit_transform(doc_encodes.cpu().numpy())"
   ]
  },
  {
   "attachments": {},
   "cell_type": "markdown",
   "metadata": {},
   "source": [
    "# Encoding Corpus - Test 100000. "
   ]
  },
  {
   "cell_type": "code",
   "execution_count": 8,
   "metadata": {},
   "outputs": [],
   "source": [
    "corpus = random.sample(corpus, 100000)"
   ]
  },
  {
   "cell_type": "code",
   "execution_count": 9,
   "metadata": {},
   "outputs": [
    {
     "data": {
      "text/plain": [
       "'tang ab also romanized as tang b is a village in juyom rural district juyom district larestan county fars province iran at the census its population was in families'"
      ]
     },
     "execution_count": 9,
     "metadata": {},
     "output_type": "execute_result"
    }
   ],
   "source": [
    "corpus[0][1]"
   ]
  },
  {
   "cell_type": "code",
   "execution_count": 10,
   "metadata": {},
   "outputs": [
    {
     "name": "stdout",
     "output_type": "stream",
     "text": [
      "<class 'list'>\n"
     ]
    }
   ],
   "source": [
    "print(type(corpus))"
   ]
  },
  {
   "cell_type": "code",
   "execution_count": 13,
   "metadata": {},
   "outputs": [
    {
     "name": "stderr",
     "output_type": "stream",
     "text": [
      "Token indices sequence length is longer than the specified maximum sequence length for this model (1126 > 512). Running this sequence through the model will result in indexing errors\n",
      "C:\\Users\\Charl\\AppData\\Local\\Temp\\ipykernel_16832\\1456053001.py:14: UserWarning: Creating a tensor from a list of numpy.ndarrays is extremely slow. Please consider converting the list to a single numpy.ndarray with numpy.array() before converting to a tensor. (Triggered internally at ..\\torch\\csrc\\utils\\tensor_new.cpp:233.)\n",
      "  embeddings_tensor = torch.tensor(embeddings)\n"
     ]
    }
   ],
   "source": [
    "embeddings = []\n",
    "\n",
    "for article in corpus:\n",
    "    article = article[1] # A text document or article.\n",
    "    encoding = bert_encode(article) # Encoding Articles\n",
    "    \n",
    "    # Turning BERT Encoding to CPU to save GPU memory.\n",
    "    encoding = encoding.cpu().numpy()\n",
    "\n",
    "    # Concatenation of encodings\n",
    "    embeddings.append(encoding)\n",
    "\n",
    "embeddings_tensor = torch.tensor(embeddings)"
   ]
  }
 ],
 "metadata": {
  "kernelspec": {
   "display_name": "Python 3",
   "language": "python",
   "name": "python3"
  },
  "language_info": {
   "codemirror_mode": {
    "name": "ipython",
    "version": 3
   },
   "file_extension": ".py",
   "mimetype": "text/x-python",
   "name": "python",
   "nbconvert_exporter": "python",
   "pygments_lexer": "ipython3",
   "version": "3.10.0 (tags/v3.10.0:b494f59, Oct  4 2021, 19:00:18) [MSC v.1929 64 bit (AMD64)]"
  },
  "orig_nbformat": 4,
  "vscode": {
   "interpreter": {
    "hash": "5ee6f23f9c4d80c203dea4faa6a5d0c8cffa4ab65b221251ea7227320f350d1e"
   }
  }
 },
 "nbformat": 4,
 "nbformat_minor": 2
}
