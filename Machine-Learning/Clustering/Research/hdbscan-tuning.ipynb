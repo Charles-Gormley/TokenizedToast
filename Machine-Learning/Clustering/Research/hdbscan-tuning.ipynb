{
 "cells": [
  {
   "cell_type": "code",
   "execution_count": 3,
   "metadata": {},
   "outputs": [],
   "source": [
    "from tuning_classes import *"
   ]
  },
  {
   "cell_type": "code",
   "execution_count": 4,
   "metadata": {},
   "outputs": [],
   "source": [
    "encodings = open_umappings('C:/Users/Charl/Documents/Projects/TokenizedToast/Data/umaps_wikipedia.pkl')"
   ]
  },
  {
   "attachments": {},
   "cell_type": "markdown",
   "metadata": {},
   "source": [
    "# Tuning HBDSCAN"
   ]
  },
  {
   "cell_type": "code",
   "execution_count": 6,
   "metadata": {},
   "outputs": [],
   "source": [
    "# Define your lists of hyperparameters\n",
    "min_cluster_sizes = [10, 20, 30]\n",
    "cluster_selection_epsilons = [0.1, 0.5, 1.0]\n",
    "cluster_selection_methods = ['leaf', 'eom']\n",
    "alphas = [0.1, 0.2, 0.3]\n",
    "metrics = ['euclidean', 'manhattan']\n",
    "\n",
    "# Empty list to store model dictionaries\n",
    "model_results = []\n",
    "\n",
    "# Loop over all combinations of hyperparameters\n",
    "for min_cluster_size in min_cluster_sizes:\n",
    "    for cluster_selection_epsilon in cluster_selection_epsilons:\n",
    "        for cluster_selection_method in cluster_selection_methods:\n",
    "            for alpha in alphas:\n",
    "                for metric in metrics:\n",
    "                    # Dictionary to store model parameters and metrics\n",
    "                    model_dict = {}\n",
    "                    # Train the model\n",
    "                    model, model_dict = train_hdbscan(model_dict, encodings, min_cluster_size, cluster_selection_epsilon, \n",
    "                                               cluster_selection_method, alpha, metric)\n",
    "                    # Compute and store the metrics\n",
    "                    model_dict = silhouette(model_dict, encodings, model)\n",
    "                    model_dict = calinski_harabasz(model_dict, encodings, model)\n",
    "                    model_dict = davies_bouldin(model_dict, encodings, model)\n",
    "                    # Add the dictionary to the list\n",
    "                    model_results.append(model_dict)\n"
   ]
  },
  {
   "attachments": {},
   "cell_type": "markdown",
   "metadata": {},
   "source": [
    "# Tuning Kmeans"
   ]
  },
  {
   "cell_type": "code",
   "execution_count": null,
   "metadata": {},
   "outputs": [],
   "source": [
    "# Define your lists of hyperparameters\n",
    "n_clusters_list = [2, 3, 4]\n",
    "init_list = ['k-means++', 'random']\n",
    "n_init_list = [10, 15, 20]\n",
    "max_iter_list = [100, 200, 300]\n",
    "tol_list = [1e-4, 1e-3, 1e-2]\n",
    "\n",
    "# Empty list to store model dictionaries\n",
    "model_dicts = []\n",
    "\n",
    "# Loop over all combinations of hyperparameters\n",
    "for n_clusters in n_clusters_list:\n",
    "    for init in init_list:\n",
    "        for n_init in n_init_list:\n",
    "            for max_iter in max_iter_list:\n",
    "                for tol in tol_list:\n",
    "                    # Dictionary to store model parameters and metrics\n",
    "                    model_dict = {}\n",
    "                    # Train the model\n",
    "                    model, model_dict = train_kmeans(model_dict, encodings, n_clusters, init, n_init, max_iter, tol)\n",
    "                    # Compute and store the metrics\n",
    "                    model_dict = silhouette(model_dict, encodings, model)\n",
    "                    model_dict = calinski_harabasz(model_dict, encodings, model)\n",
    "                    model_dict = davies_bouldin(model_dict, encodings, model)\n",
    "                    # Add the dictionary to the list\n",
    "                    model_dicts.append(model_dict)\n"
   ]
  }
 ],
 "metadata": {
  "kernelspec": {
   "display_name": "Python 3",
   "language": "python",
   "name": "python3"
  },
  "language_info": {
   "codemirror_mode": {
    "name": "ipython",
    "version": 3
   },
   "file_extension": ".py",
   "mimetype": "text/x-python",
   "name": "python",
   "nbconvert_exporter": "python",
   "pygments_lexer": "ipython3",
   "version": "3.10.0"
  },
  "orig_nbformat": 4,
  "vscode": {
   "interpreter": {
    "hash": "5ee6f23f9c4d80c203dea4faa6a5d0c8cffa4ab65b221251ea7227320f350d1e"
   }
  }
 },
 "nbformat": 4,
 "nbformat_minor": 2
}
